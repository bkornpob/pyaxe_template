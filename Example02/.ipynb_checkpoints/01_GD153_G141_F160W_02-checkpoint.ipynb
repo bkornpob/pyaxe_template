{
 "cells": [
  {
   "cell_type": "code",
   "execution_count": 1,
   "metadata": {},
   "outputs": [
    {
     "name": "stdout",
     "output_type": "stream",
     "text": [
      "The following task in the stsci.skypac package can be run with TEAL:\n",
      "                                    skymatch                                    \n",
      "The following tasks in the drizzlepac package can be run with TEAL:\n",
      "    astrodrizzle       config_testbed      imagefindpars           mapreg       \n",
      "       photeq            pixreplace           pixtopix            pixtosky      \n",
      "  refimagefindpars       resetbits          runastrodriz          skytopix      \n",
      "     tweakback            tweakreg           updatenpol\n",
      "Saving pyaxe logging to 'axe_output.log'\n",
      "\n",
      "********************************************************************\n",
      "* Welcome to pyaxe! This version is independent of IRAF and PyRAF. *\n",
      "********************************************************************\n",
      "\n",
      "AXE_IMAGE_PATH not defined, using DATA\n",
      "AXE_OUTPUT_PATH not defined, using OUTPUT\n",
      "AXE_CONFIG_PATH not defined, using CONF\n",
      "AXE_DRIZZLE_PATH not defined, using DRIZZLE\n",
      "AXE_SIMDATA_PATH not defined, using SIMDATA\n",
      "AXE_OUTSIM_PATH not defined, using OUTSIM\n",
      "AXE_DRZTMP_LOC not defined, using DRIZZLE/tmp\n"
     ]
    }
   ],
   "source": [
    "import os,glob,shutil,copy\n",
    "from drizzlepac import astrodrizzle\n",
    "from pyaxe import axetasks\n",
    "from pyaxehelper.pyaxehelper import *\n",
    "\n",
    "from astropy.io import fits\n",
    "import matplotlib.pyplot as plt\n",
    "import numpy as np\n",
    "import pandas as pd\n",
    "%matplotlib inline\n",
    "\n",
    "cwd = os.getcwd()\n"
   ]
  },
  {
   "cell_type": "code",
   "execution_count": 2,
   "metadata": {},
   "outputs": [
    {
     "data": {
      "text/plain": [
       "'0.1.dev29+gf57de55.d20200106'"
      ]
     },
     "execution_count": 2,
     "metadata": {},
     "output_type": "execute_result"
    }
   ],
   "source": [
    "import pyaxe\n",
    "pyaxe.__version__\n"
   ]
  },
  {
   "cell_type": "markdown",
   "metadata": {},
   "source": [
    "# Prepare meta info for flt files"
   ]
  },
  {
   "cell_type": "code",
   "execution_count": 3,
   "metadata": {
    "scrolled": true
   },
   "outputs": [
    {
     "data": {
      "text/plain": [
       "['BACKUP_DATA/mastDownload/HST/idco02q7q/idco02q7q_flt.fits',\n",
       " 'BACKUP_DATA/mastDownload/HST/idco02pvq/idco02pvq_flt.fits',\n",
       " 'BACKUP_DATA/mastDownload/HST/idco02prq/idco02prq_flt.fits',\n",
       " 'BACKUP_DATA/mastDownload/HST/idco02q9q/idco02q9q_flt.fits',\n",
       " 'BACKUP_DATA/mastDownload/HST/idco02ppq/idco02ppq_flt.fits',\n",
       " 'BACKUP_DATA/mastDownload/HST/idco02ptq/idco02ptq_flt.fits']"
      ]
     },
     "execution_count": 3,
     "metadata": {},
     "output_type": "execute_result"
    }
   ],
   "source": [
    "### Create a list of flt files including both grism and direct images\n",
    "\n",
    "os.chdir(cwd)\n",
    "path = 'BACKUP_DATA/mastDownload/HST/*/*flt.fits'\n",
    "FILES = glob.glob(path)\n",
    "FILES\n"
   ]
  },
  {
   "cell_type": "code",
   "execution_count": 4,
   "metadata": {},
   "outputs": [
    {
     "data": {
      "text/plain": [
       "{1: {'FILE_ORIG': 'BACKUP_DATA/mastDownload/HST/idco02pvq/idco02pvq_flt.fits',\n",
       "  'FILTER': 'G141',\n",
       "  'EXPSTART': 57848.52624278,\n",
       "  'POSTARG1': 8.0,\n",
       "  'POSTARG2': 12.0,\n",
       "  'DIRECT': {'ID': 5,\n",
       "   'FILE_ORIG': 'BACKUP_DATA/mastDownload/HST/idco02ptq/idco02ptq_flt.fits',\n",
       "   'FILTER': 'F160W',\n",
       "   'EXPSTART': 57848.52525907,\n",
       "   'POSTARG1': 8.0,\n",
       "   'POSTARG2': 12.0}},\n",
       " 2: {'FILE_ORIG': 'BACKUP_DATA/mastDownload/HST/idco02prq/idco02prq_flt.fits',\n",
       "  'FILTER': 'G141',\n",
       "  'EXPSTART': 57848.51723833,\n",
       "  'POSTARG1': 8.0,\n",
       "  'POSTARG2': 28.0,\n",
       "  'DIRECT': {'ID': 4,\n",
       "   'FILE_ORIG': 'BACKUP_DATA/mastDownload/HST/idco02ppq/idco02ppq_flt.fits',\n",
       "   'FILTER': 'F160W',\n",
       "   'EXPSTART': 57848.51625463,\n",
       "   'POSTARG1': 8.0,\n",
       "   'POSTARG2': 28.0}},\n",
       " 3: {'FILE_ORIG': 'BACKUP_DATA/mastDownload/HST/idco02q9q/idco02q9q_flt.fits',\n",
       "  'FILTER': 'G141',\n",
       "  'EXPSTART': 57848.57902055,\n",
       "  'POSTARG1': -48.0,\n",
       "  'POSTARG2': -12.0,\n",
       "  'DIRECT': {'ID': 0,\n",
       "   'FILE_ORIG': 'BACKUP_DATA/mastDownload/HST/idco02q7q/idco02q7q_flt.fits',\n",
       "   'FILTER': 'F160W',\n",
       "   'EXPSTART': 57848.57803685,\n",
       "   'POSTARG1': -48.0,\n",
       "   'POSTARG2': -12.0}}}"
      ]
     },
     "execution_count": 4,
     "metadata": {},
     "output_type": "execute_result"
    }
   ],
   "source": [
    "# Prepare metadata and make pairs\n",
    "### NOTE: check GID[key]['DIRECT'] for the suggested pair\n",
    "### NOTE: change pair manually if the suggestion is not optimal\n",
    "\n",
    "os.chdir(cwd)\n",
    "GID,DID = make_meta(FILES)   \n",
    "GID\n"
   ]
  },
  {
   "cell_type": "code",
   "execution_count": 5,
   "metadata": {},
   "outputs": [],
   "source": [
    "# Create GRISM/\n",
    "# Copy grism files to GRISM/\n",
    "# Make GRISM.lis in GRISM/\n",
    "\n",
    "# Create DIRECT/\n",
    "# Copy direct files to DIRECT/\n",
    "# Make DIRECT.lis in DIRECT/\n",
    "# NOTE: only direct files that have been paired will be processed\n",
    "\n",
    "os.chdir(cwd)\n",
    "prepare_folders(GID)\n"
   ]
  },
  {
   "cell_type": "markdown",
   "metadata": {},
   "source": [
    "# Drizzle GRISM for astrometry"
   ]
  },
  {
   "cell_type": "code",
   "execution_count": 6,
   "metadata": {},
   "outputs": [
    {
     "name": "stdout",
     "output_type": "stream",
     "text": [
      "idco02prq_flt.fits idco02pvq_flt.fits idco02q9q_flt.fits\n",
      "idco02pvq_flt.fits\n",
      "idco02prq_flt.fits\n",
      "idco02q9q_flt.fits\n"
     ]
    }
   ],
   "source": [
    "# Check if files are correct\n",
    "os.chdir(cwd)\n",
    "os.chdir(\"GRISM\")\n",
    "!ls *flt.fits\n",
    "!cat GRISM.lis\n",
    "os.chdir(cwd)"
   ]
  },
  {
   "cell_type": "code",
   "execution_count": 7,
   "metadata": {},
   "outputs": [
    {
     "name": "stdout",
     "output_type": "stream",
     "text": [
      "Setting up logfile :  astrodrizzle.log\n",
      "AstroDrizzle Version 3.1.3 (2019-11-06 14:37:50 -0500) started at: 16:16:00.284 (10/01/2020)\n",
      "\n",
      "==== Processing Step  Initialization  started at  16:16:00.287 (10/01/2020)\n",
      "Preserving original of:  idco02pvq_flt.fits as  OrIg_files/idco02pvq_flt.fits\n",
      "Preserving original of:  idco02prq_flt.fits as  OrIg_files/idco02prq_flt.fits\n",
      "Preserving original of:  idco02q9q_flt.fits as  OrIg_files/idco02q9q_flt.fits\n",
      "WCS Keywords\n",
      "\n",
      "Number of WCS axes: 2\n",
      "CTYPE : 'RA---TAN'  'DEC--TAN'  \n",
      "CRVAL : 194.25223023395577  22.03308430296487  \n",
      "CRPIX : 761.0  634.5  \n",
      "CD1_1 CD1_2  : -2.534032160485279e-05  2.5040143421854492e-05  \n",
      "CD2_1 CD2_2  : 2.5040143421854492e-05  2.534032160485279e-05  \n",
      "NAXIS : 1522  1269\n",
      "********************************************************************************\n",
      "*\n",
      "*  Estimated memory usage:  up to 89 Mb.\n",
      "*  Output image size:       1522 X 1269 pixels. \n",
      "*  Output image file:       ~ 22 Mb. \n",
      "*  Cores available:         3\n",
      "*\n",
      "********************************************************************************\n",
      "==== Processing Step  Initialization  finished at  16:16:00.968 (10/01/2020)\n",
      "\n",
      "==== Processing Step  Static Mask  started at  16:16:00.970 (10/01/2020)\n",
      "==== Processing Step  Static Mask  finished at  16:16:01.088 (10/01/2020)\n",
      "\n",
      "==== Processing Step  Subtract Sky  started at  16:16:01.090 (10/01/2020)\n",
      "***** skymatch started on 2020-01-10 16:16:01.158088\n",
      "      Version 1.0.4 (2019-05-30 14:31:23 -0400)\n",
      "\n",
      "'skymatch' task will apply computed sky differences to input image file(s).\n",
      "\n",
      "NOTE: Computed sky values WILL NOT be subtracted from image data ('subtractsky'=False).\n",
      "'MDRIZSKY' header keyword will represent sky value *computed* from data.\n",
      "\n",
      "-----  User specified keywords:  -----\n",
      "       Sky Value Keyword:  'MDRIZSKY'\n",
      "       Data Units Keyword: 'BUNIT'\n",
      "\n",
      "\n",
      "-----  Input file list:  -----\n",
      "\n",
      "   **  Input image: 'idco02pvq_flt.fits'\n",
      "       EXT: 'SCI',1;\tMASK: idco02pvq_skymatch_mask_sci1.fits[0]\n",
      "\n",
      "   **  Input image: 'idco02prq_flt.fits'\n",
      "       EXT: 'SCI',1;\tMASK: idco02prq_skymatch_mask_sci1.fits[0]\n",
      "\n",
      "   **  Input image: 'idco02q9q_flt.fits'\n",
      "       EXT: 'SCI',1;\tMASK: idco02q9q_skymatch_mask_sci1.fits[0]\n",
      "\n",
      "-----  Sky statistics parameters:  -----\n",
      "       statistics function: 'median'\n",
      "       lower = None\n",
      "       upper = None\n",
      "       nclip = 5\n",
      "       lsigma = 4.0\n",
      "       usigma = 4.0\n",
      "       binwidth = 0.1\n",
      "\n",
      "-----  Data->Brightness conversion parameters for input files:  -----\n",
      "\n",
      "   *   Image: idco02pvq_flt.fits\n",
      "       EXT = 'SCI',1\n",
      "             Data units type: COUNT-RATE\n",
      "             Conversion factor (data->brightness):  60.797431635711504\n",
      "\n",
      "   *   Image: idco02prq_flt.fits\n",
      "       EXT = 'SCI',1\n",
      "             Data units type: COUNT-RATE\n",
      "             Conversion factor (data->brightness):  60.797431635711504\n",
      "\n",
      "   *   Image: idco02q9q_flt.fits\n",
      "       EXT = 'SCI',1\n",
      "             Data units type: COUNT-RATE\n",
      "             Conversion factor (data->brightness):  60.797431635711504\n",
      "\n",
      "\n",
      "-----  Computing sky values requested image extensions (detector chips):  -----\n",
      "\n",
      "   *   Image:   'idco02pvq_flt.fits['SCI',1]'  --  SKY = 64.39349706749164 (brightness units)\n",
      "       Sky change (data units):\n",
      "      - EXT = 'SCI',1   delta(MDRIZSKY) = 1.05915   NEW MDRIZSKY = 1.05915\n",
      "   *   Image:   'idco02prq_flt.fits['SCI',1]'  --  SKY = 65.49762828033539 (brightness units)\n",
      "       Sky change (data units):\n",
      "      - EXT = 'SCI',1   delta(MDRIZSKY) = 1.07731   NEW MDRIZSKY = 1.07731\n",
      "   *   Image:   'idco02q9q_flt.fits['SCI',1]'  --  SKY = 66.45488650160561 (brightness units)\n",
      "       Sky change (data units):\n",
      "      - EXT = 'SCI',1   delta(MDRIZSKY) = 1.09305   NEW MDRIZSKY = 1.09305\n",
      "***** skymatch ended on 2020-01-10 16:16:01.444708\n",
      "TOTAL RUN TIME: 0:00:00.286620\n",
      "==== Processing Step  Subtract Sky  finished at  16:16:01.52 (10/01/2020)\n",
      "\n",
      "==== Processing Step  Separate Drizzle  started at  16:16:01.532 (10/01/2020)\n",
      "WCS Keywords\n",
      "\n",
      "Number of WCS axes: 2\n",
      "CTYPE : 'RA---TAN'  'DEC--TAN'  \n",
      "CRVAL : 194.25223023395577  22.03308430296487  \n",
      "CRPIX : 761.0  634.5  \n",
      "CD1_1 CD1_2  : -2.534032160485279e-05  2.5040143421854492e-05  \n",
      "CD2_1 CD2_2  : 2.5040143421854492e-05  2.534032160485279e-05  \n",
      "NAXIS : 1522  1269\n",
      "-Generating simple FITS output: idco02prq_single_sci.fits\n",
      "-Generating simple FITS output: idco02q9q_single_sci.fits\n",
      "-Generating simple FITS output: idco02pvq_single_sci.fits\n",
      "Writing out image to disk: idco02prq_single_sci.fits\n",
      "Writing out image to disk: idco02q9q_single_sci.fits\n",
      "Writing out image to disk: idco02pvq_single_sci.fits\n",
      "Writing out image to disk: idco02q9q_single_wht.fits\n",
      "Writing out image to disk: idco02prq_single_wht.fits\n",
      "Writing out image to disk: idco02pvq_single_wht.fits\n",
      "==== Processing Step  Separate Drizzle  finished at  16:16:02.583 (10/01/2020)\n",
      "\n",
      "==== Processing Step  Create Median  started at  16:16:02.588 (10/01/2020)\n",
      "reference sky value for image 'idco02pvq_flt.fits' is 109.02272606331348\n",
      "reference sky value for image 'idco02prq_flt.fits' is 110.89209797566129\n",
      "reference sky value for image 'idco02q9q_flt.fits' is 112.51280356833959\n",
      "Saving output median image to: 'GRISM_med.fits'\n",
      "==== Processing Step  Create Median  finished at  16:16:03.581 (10/01/2020)\n",
      "\n",
      "==== Processing Step  Blot  started at  16:16:03.583 (10/01/2020)\n",
      "    Blot: creating blotted image:  idco02pvq_flt.fits[sci,1]\n",
      "Using default C-based coordinate transformation...\n",
      "-Generating simple FITS output: idco02pvq_sci1_blt.fits\n",
      "Writing out image to disk: idco02pvq_sci1_blt.fits\n",
      "    Blot: creating blotted image:  idco02prq_flt.fits[sci,1]\n",
      "Using default C-based coordinate transformation...\n",
      "-Generating simple FITS output: idco02prq_sci1_blt.fits\n",
      "Writing out image to disk: idco02prq_sci1_blt.fits\n",
      "    Blot: creating blotted image:  idco02q9q_flt.fits[sci,1]\n",
      "Using default C-based coordinate transformation...\n",
      "-Generating simple FITS output: idco02q9q_sci1_blt.fits\n",
      "Writing out image to disk: idco02q9q_sci1_blt.fits\n",
      "==== Processing Step  Blot  finished at  16:16:04.498 (10/01/2020)\n",
      "\n",
      "==== Processing Step  Driz_CR  started at  16:16:04.499 (10/01/2020)\n",
      "Creating output: idco02prq_sci1_crmask.fits\n",
      "Creating output: idco02pvq_sci1_crmask.fits\n",
      "Creating output: idco02q9q_sci1_crmask.fits\n",
      "==== Processing Step  Driz_CR  finished at  16:16:05.581 (10/01/2020)\n",
      "\n",
      "==== Processing Step  Final Drizzle  started at  16:16:05.596 (10/01/2020)\n",
      "WCS Keywords\n",
      "\n",
      "Number of WCS axes: 2\n",
      "CTYPE : 'RA---TAN'  'DEC--TAN'  \n",
      "CRVAL : 194.25223023395577  22.03308430296487  \n",
      "CRPIX : 761.0  634.5  \n",
      "CD1_1 CD1_2  : -2.534032160485279e-05  2.5040143421854492e-05  \n",
      "CD2_1 CD2_2  : 2.5040143421854492e-05  2.534032160485279e-05  \n",
      "NAXIS : 1522  1269\n",
      "-Generating multi-extension output file:  GRISM_drz.fits\n",
      "Writing out to disk: GRISM_drz.fits\n",
      "==== Processing Step  Final Drizzle  finished at  16:16:07.356 (10/01/2020)\n",
      "\n",
      "\n",
      "AstroDrizzle Version 3.1.3 is finished processing at 16:16:07.35 (10/01/2020).\n",
      "\n",
      "\n",
      "   --------------------          --------------------\n",
      "                   Step          Elapsed time\n",
      "   --------------------          --------------------\n",
      "\n",
      "         Initialization          0.6803 sec.\n",
      "            Static Mask          0.1173 sec.\n",
      "           Subtract Sky          0.4389 sec.\n",
      "       Separate Drizzle          1.0516 sec.\n",
      "          Create Median          0.9931 sec.\n",
      "                   Blot          0.9144 sec.\n",
      "                Driz_CR          1.0814 sec.\n",
      "          Final Drizzle          1.7597 sec.\n",
      "   ====================          ====================\n",
      "                  Total          7.0367 sec.\n",
      "Trailer file written to:  astrodrizzle.log\n"
     ]
    }
   ],
   "source": [
    "os.chdir(cwd)\n",
    "os.chdir('GRISM')\n",
    "astrodrizzle.AstroDrizzle(\"@GRISM.lis\", output=\"GRISM\", build=True)\n",
    "os.chdir(cwd)"
   ]
  },
  {
   "cell_type": "markdown",
   "metadata": {},
   "source": [
    "# Drizzle DIRECT for astrometry given GRISM\n",
    "\n",
    "### NOTE: use GRISM_drz.fits as reference"
   ]
  },
  {
   "cell_type": "code",
   "execution_count": 8,
   "metadata": {},
   "outputs": [
    {
     "name": "stdout",
     "output_type": "stream",
     "text": [
      "idco02ppq_flt.fits idco02ptq_flt.fits idco02q7q_flt.fits\n",
      "idco02ptq_flt.fits\n",
      "idco02ppq_flt.fits\n",
      "idco02q7q_flt.fits\n"
     ]
    }
   ],
   "source": [
    "# Check if files are correct\n",
    "os.chdir(cwd)\n",
    "os.chdir(\"DIRECT\")\n",
    "!ls *flt.fits\n",
    "!cat DIRECT.lis\n",
    "os.chdir(cwd)"
   ]
  },
  {
   "cell_type": "code",
   "execution_count": 9,
   "metadata": {},
   "outputs": [
    {
     "name": "stdout",
     "output_type": "stream",
     "text": [
      "Setting up logfile :  astrodrizzle.log\n",
      "AstroDrizzle Version 3.1.3 (2019-11-06 14:37:50 -0500) started at: 16:16:07.689 (10/01/2020)\n",
      "\n",
      "==== Processing Step  Initialization  started at  16:16:07.692 (10/01/2020)\n",
      "Preserving original of:  idco02ptq_flt.fits as  OrIg_files/idco02ptq_flt.fits\n",
      "Preserving original of:  idco02ppq_flt.fits as  OrIg_files/idco02ppq_flt.fits\n",
      "Preserving original of:  idco02q7q_flt.fits as  OrIg_files/idco02q7q_flt.fits\n",
      "Creating OUTPUT WCS from ../GRISM/GRISM_drz.fits[1]\n",
      "WCS Keywords\n",
      "\n",
      "CD_11  CD_12: -2.5340321604852e-05 2.50401434218544e-05\n",
      "CD_21  CD_22: 2.50401434218544e-05 2.53403216048527e-05\n",
      "CRVAL    : 194.2522302339558 22.03308430296487\n",
      "CRPIX    : 761.0 634.5\n",
      "NAXIS    : 1522 1269\n",
      "Plate Scale : 0.12825000286102065\n",
      "ORIENTAT : 44.65862285194273\n",
      "********************************************************************************\n",
      "*\n",
      "*  Estimated memory usage:  up to 89 Mb.\n",
      "*  Output image size:       1522 X 1269 pixels. \n",
      "*  Output image file:       ~ 22 Mb. \n",
      "*  Cores available:         3\n",
      "*\n",
      "********************************************************************************\n",
      "==== Processing Step  Initialization  finished at  16:16:08.327 (10/01/2020)\n",
      "\n",
      "==== Processing Step  Static Mask  started at  16:16:08.330 (10/01/2020)\n",
      "==== Processing Step  Static Mask  finished at  16:16:08.426 (10/01/2020)\n",
      "\n",
      "==== Processing Step  Subtract Sky  started at  16:16:08.42 (10/01/2020)\n",
      "***** skymatch started on 2020-01-10 16:16:08.490272\n",
      "      Version 1.0.4 (2019-05-30 14:31:23 -0400)\n",
      "\n",
      "'skymatch' task will apply computed sky differences to input image file(s).\n",
      "\n",
      "NOTE: Computed sky values WILL NOT be subtracted from image data ('subtractsky'=False).\n",
      "'MDRIZSKY' header keyword will represent sky value *computed* from data.\n",
      "\n",
      "-----  User specified keywords:  -----\n",
      "       Sky Value Keyword:  'MDRIZSKY'\n",
      "       Data Units Keyword: 'BUNIT'\n",
      "\n",
      "\n",
      "-----  Input file list:  -----\n",
      "\n",
      "   **  Input image: 'idco02ptq_flt.fits'\n",
      "       EXT: 'SCI',1;\tMASK: idco02ptq_skymatch_mask_sci1.fits[0]\n",
      "\n",
      "   **  Input image: 'idco02ppq_flt.fits'\n",
      "       EXT: 'SCI',1;\tMASK: idco02ppq_skymatch_mask_sci1.fits[0]\n",
      "\n",
      "   **  Input image: 'idco02q7q_flt.fits'\n",
      "       EXT: 'SCI',1;\tMASK: idco02q7q_skymatch_mask_sci1.fits[0]\n",
      "\n",
      "-----  Sky statistics parameters:  -----\n",
      "       statistics function: 'median'\n",
      "       lower = None\n",
      "       upper = None\n",
      "       nclip = 5\n",
      "       lsigma = 4.0\n",
      "       usigma = 4.0\n",
      "       binwidth = 0.1\n",
      "\n",
      "-----  Data->Brightness conversion parameters for input files:  -----\n",
      "\n",
      "   *   Image: idco02ptq_flt.fits\n",
      "       EXT = 'SCI',1\n",
      "             Data units type: COUNT-RATE\n",
      "             Conversion factor (data->brightness):  60.797431635711504\n",
      "\n",
      "   *   Image: idco02ppq_flt.fits\n",
      "       EXT = 'SCI',1\n",
      "             Data units type: COUNT-RATE\n",
      "             Conversion factor (data->brightness):  60.797431635711504\n",
      "\n",
      "   *   Image: idco02q7q_flt.fits\n",
      "       EXT = 'SCI',1\n",
      "             Data units type: COUNT-RATE\n",
      "             Conversion factor (data->brightness):  60.797431635711504\n",
      "\n",
      "\n",
      "-----  Computing sky values requested image extensions (detector chips):  -----\n",
      "\n",
      "   *   Image:   'idco02ptq_flt.fits['SCI',1]'  --  SKY = 35.30225527462289 (brightness units)\n",
      "       Sky change (data units):\n",
      "      - EXT = 'SCI',1   delta(MDRIZSKY) = 0.580654   NEW MDRIZSKY = 0.580654\n",
      "   *   Image:   'idco02ppq_flt.fits['SCI',1]'  --  SKY = 31.83747320673928 (brightness units)\n",
      "       Sky change (data units):\n",
      "      - EXT = 'SCI',1   delta(MDRIZSKY) = 0.523665   NEW MDRIZSKY = 0.523665\n",
      "   *   Image:   'idco02q7q_flt.fits['SCI',1]'  --  SKY = 32.65834574059618 (brightness units)\n",
      "       Sky change (data units):\n",
      "      - EXT = 'SCI',1   delta(MDRIZSKY) = 0.537167   NEW MDRIZSKY = 0.537167\n",
      "***** skymatch ended on 2020-01-10 16:16:08.753001\n",
      "TOTAL RUN TIME: 0:00:00.262729\n",
      "==== Processing Step  Subtract Sky  finished at  16:16:08.822 (10/01/2020)\n",
      "\n",
      "==== Processing Step  Separate Drizzle  started at  16:16:08.823 (10/01/2020)\n",
      "WCS Keywords\n",
      "\n",
      "CD_11  CD_12: -2.5340321604852e-05 2.50401434218544e-05\n",
      "CD_21  CD_22: 2.50401434218544e-05 2.53403216048527e-05\n",
      "CRVAL    : 194.2522302339558 22.03308430296487\n",
      "CRPIX    : 761.0 634.5\n",
      "NAXIS    : 1522 1269\n",
      "Plate Scale : 0.12825000286102065\n",
      "ORIENTAT : 44.65862285194273\n",
      "-Generating simple FITS output: idco02ptq_single_sci.fits\n",
      "-Generating simple FITS output: idco02ppq_single_sci.fits\n",
      "-Generating simple FITS output: idco02q7q_single_sci.fits\n",
      "Writing out image to disk: idco02ptq_single_sci.fits\n",
      "Writing out image to disk: idco02ppq_single_sci.fits\n",
      "Writing out image to disk: idco02q7q_single_sci.fits\n",
      "Writing out image to disk: idco02ptq_single_wht.fits\n",
      "Writing out image to disk: idco02ppq_single_wht.fits\n",
      "Writing out image to disk: idco02q7q_single_wht.fits\n",
      "==== Processing Step  Separate Drizzle  finished at  16:16:09.853 (10/01/2020)\n",
      "\n",
      "==== Processing Step  Create Median  started at  16:16:09.858 (10/01/2020)\n",
      "reference sky value for image 'idco02ptq_flt.fits' is 3.405291395917297\n",
      "reference sky value for image 'idco02ppq_flt.fits' is 3.071074998899341\n",
      "reference sky value for image 'idco02q7q_flt.fits' is 3.150257197173715\n",
      "Saving output median image to: 'DIRECT_med.fits'\n",
      "==== Processing Step  Create Median  finished at  16:16:10.793 (10/01/2020)\n",
      "\n",
      "==== Processing Step  Blot  started at  16:16:10.795 (10/01/2020)\n",
      "    Blot: creating blotted image:  idco02ptq_flt.fits[sci,1]\n",
      "Using default C-based coordinate transformation...\n",
      "-Generating simple FITS output: idco02ptq_sci1_blt.fits\n",
      "Writing out image to disk: idco02ptq_sci1_blt.fits\n",
      "    Blot: creating blotted image:  idco02ppq_flt.fits[sci,1]\n",
      "Using default C-based coordinate transformation...\n",
      "-Generating simple FITS output: idco02ppq_sci1_blt.fits\n",
      "Writing out image to disk: idco02ppq_sci1_blt.fits\n",
      "    Blot: creating blotted image:  idco02q7q_flt.fits[sci,1]\n",
      "Using default C-based coordinate transformation...\n",
      "-Generating simple FITS output: idco02q7q_sci1_blt.fits\n",
      "Writing out image to disk: idco02q7q_sci1_blt.fits\n",
      "==== Processing Step  Blot  finished at  16:16:11.703 (10/01/2020)\n",
      "\n",
      "==== Processing Step  Driz_CR  started at  16:16:11.705 (10/01/2020)\n",
      "Creating output: idco02ptq_sci1_crmask.fits\n",
      "Creating output: idco02ppq_sci1_crmask.fits\n",
      "Creating output: idco02q7q_sci1_crmask.fits\n",
      "Created CR corrected file: 'idco02ppq_crclean.fits'\n",
      "Created CR corrected file: 'idco02ptq_crclean.fits'\n",
      "Created CR corrected file: 'idco02q7q_crclean.fits'\n",
      "==== Processing Step  Driz_CR  finished at  16:16:12.78 (10/01/2020)\n",
      "\n",
      "==== Processing Step  Final Drizzle  started at  16:16:12.79 (10/01/2020)\n",
      "WCS Keywords\n",
      "\n",
      "CD_11  CD_12: -2.5340321604852e-05 2.50401434218544e-05\n",
      "CD_21  CD_22: 2.50401434218544e-05 2.53403216048527e-05\n",
      "CRVAL    : 194.2522302339558 22.03308430296487\n",
      "CRPIX    : 761.0 634.5\n",
      "NAXIS    : 1522 1269\n",
      "Plate Scale : 0.12825000286102065\n",
      "ORIENTAT : 44.65862285194273\n",
      "-Generating multi-extension output file:  DIRECT_drz.fits\n",
      "Writing out to disk: DIRECT_drz.fits\n",
      "==== Processing Step  Final Drizzle  finished at  16:16:14.67 (10/01/2020)\n",
      "\n",
      "\n",
      "AstroDrizzle Version 3.1.3 is finished processing at 16:16:14.680 (10/01/2020).\n",
      "\n",
      "\n",
      "   --------------------          --------------------\n",
      "                   Step          Elapsed time\n",
      "   --------------------          --------------------\n",
      "\n",
      "         Initialization          0.6348 sec.\n",
      "            Static Mask          0.0959 sec.\n",
      "           Subtract Sky          0.3939 sec.\n",
      "       Separate Drizzle          1.0292 sec.\n",
      "          Create Median          0.9343 sec.\n",
      "                   Blot          0.9081 sec.\n",
      "                Driz_CR          1.0763 sec.\n",
      "          Final Drizzle          1.8858 sec.\n",
      "   ====================          ====================\n",
      "                  Total          6.9581 sec.\n",
      "Trailer file written to:  astrodrizzle.log\n"
     ]
    }
   ],
   "source": [
    "os.chdir(cwd)\n",
    "os.chdir('DIRECT')\n",
    "ref = \"../GRISM/GRISM_drz.fits[1]\"\n",
    "astrodrizzle.AstroDrizzle(\"@DIRECT.lis\",output=\"DIRECT\",in_memory=False,skysub=\"yes\",\n",
    "                          build=True,driz_cr_corr=True,driz_cr=True,final_wcs=True,driz_separate=True,\n",
    "                          driz_sep_wcs=True,driz_sep_refimage=ref,final_refimage=ref)\n",
    "os.chdir(cwd)"
   ]
  },
  {
   "cell_type": "code",
   "execution_count": 10,
   "metadata": {},
   "outputs": [
    {
     "data": {
      "image/png": "[encoded data removed]",
      "text/plain": [
       "<Figure size 720x504 with 2 Axes>"
      ]
     },
     "metadata": {
      "needs_background": "light"
     },
     "output_type": "display_data"
    }
   ],
   "source": [
    "os.chdir(cwd)\n",
    "\n",
    "plt.rcParams[\"figure.figsize\"] = (10,7)\n",
    "plt.subplot(1,2,1)\n",
    "d = fits.open(\"DIRECT/DIRECT_drz.fits\")[1].data\n",
    "im1 = plt.imshow(d,origin=\"corner\")\n",
    "im1.set_clim(0,.2)\n",
    "\n",
    "plt.subplot(1,2,2)\n",
    "d = fits.open(\"GRISM/GRISM_drz.fits\")[1].data\n",
    "im1 = plt.imshow(d,origin=\"corner\")\n",
    "im1.set_clim(0,.2)"
   ]
  },
  {
   "cell_type": "markdown",
   "metadata": {},
   "source": [
    "# Make a source catalog\n",
    "\n",
    "### NOTE: make the source catalog from direct_drz.fits file"
   ]
  },
  {
   "cell_type": "markdown",
   "metadata": {},
   "source": [
    "We create an object catalog using sextractor\n",
    "\n",
    "This is one step that needs to be done carefully as several things can go wrong.\n",
    "- Make sure you set the magnitude zeropoint properly for the image you are using\n",
    "- One can generate a simple catalog using:\n",
    "\n",
    "    sex -c aXe.sex F140W_drz.fits[1] -DETECT_THRESH 5 -MAG_ZEROPOINT 26.4525\n",
    "    \n",
    "    \n",
    "- See aXe.param for the required parameters that aXe will be looking for\n",
    "- Check the resulting catalog to make sure that all objects have good magnitudes (i.e. no mag of 99.)\n",
    "- Edit cookbook.cat and rename column MAG_ISO with MAG_F1392, or you will get an \"aXeError: Catalogue: test.cat does not contain any magnitude column!\" error when running iolprep\n",
    "\n",
    "This catalog, when doing a simple extraction, will be used to compute the SED of each sources. These SEDs will be used to compute our contamination models. In this example, we used a single band, F140W, but we could have added information in other bands such as F125W for example. This requires running Sextractor in matched photometry mode, and the creation of a catalog where magnitudes in multiple bands are properly listed\n",
    "\n",
    "For simplicity, here, we copy an already generated catalog:"
   ]
  },
  {
   "cell_type": "code",
   "execution_count": 11,
   "metadata": {
    "scrolled": true
   },
   "outputs": [
    {
     "name": "stdout",
     "output_type": "stream",
     "text": [
      "\r\n",
      "> WARNING: aXe.sex not found, using internal defaults\r\n",
      "\r\n",
      "\u001b[1M> \r\n",
      "\u001b[1A----- SExtractor 2.19.5 started on 2020-01-10 at 16:16:15 with 1 thread\r\n",
      "\r\n",
      "\u001b[1M> Setting catalog parameters\r\n",
      "\u001b[1A\r\n",
      "> *ERROR*: can't read default.param\r\n",
      "\r\n"
     ]
    }
   ],
   "source": [
    "# Create SEX/\n",
    "# Copy DIRECT_drz.fits to SEX/\n",
    "# Run sextractor\n",
    "\n",
    "os.chdir(cwd)\n",
    "\n",
    "x = glob.glob(cwd+'/*')\n",
    "if cwd+'/SEX' not in x:\n",
    "    os.mkdir(cwd+'/SEX')\n",
    "\n",
    "os.chdir('SEX')\n",
    "!sex -c aXe.sex ../DIRECT/DIRECT_drz.fits[1] -DETECT_THRESH 5 -MAG_ZEROPOINT 26.4525\n"
   ]
  },
  {
   "cell_type": "code",
   "execution_count": 12,
   "metadata": {},
   "outputs": [
    {
     "data": {
      "text/plain": [
       "256"
      ]
     },
     "execution_count": 12,
     "metadata": {},
     "output_type": "execute_result"
    }
   ],
   "source": [
    "os.chdir(cwd)\n",
    "os.system('cp SEX/cookbook.cat .')"
   ]
  },
  {
   "cell_type": "code",
   "execution_count": 13,
   "metadata": {},
   "outputs": [
    {
     "name": "stdout",
     "output_type": "stream",
     "text": [
      "cat: cookbook.cat: No such file or directory\r\n"
     ]
    }
   ],
   "source": [
    "os.chdir(cwd)\n",
    "!cat cookbook.cat\n"
   ]
  },
  {
   "cell_type": "code",
   "execution_count": 14,
   "metadata": {
    "scrolled": false
   },
   "outputs": [
    {
     "ename": "FileNotFoundError",
     "evalue": "[Errno 2] No such file or directory: 'cookbook.cat'",
     "output_type": "error",
     "traceback": [
      "\u001b[0;31m---------------------------------------------------------------------------\u001b[0m",
      "\u001b[0;31mFileNotFoundError\u001b[0m                         Traceback (most recent call last)",
      "\u001b[0;32m<ipython-input-14-526b1edc8c5f>\u001b[0m in \u001b[0;36m<module>\u001b[0;34m\u001b[0m\n\u001b[1;32m      3\u001b[0m \u001b[0mos\u001b[0m\u001b[0;34m.\u001b[0m\u001b[0mchdir\u001b[0m\u001b[0;34m(\u001b[0m\u001b[0mcwd\u001b[0m\u001b[0;34m)\u001b[0m\u001b[0;34m\u001b[0m\u001b[0;34m\u001b[0m\u001b[0m\n\u001b[1;32m      4\u001b[0m \u001b[0mRA\u001b[0m\u001b[0;34m,\u001b[0m\u001b[0mDEC\u001b[0m \u001b[0;34m=\u001b[0m \u001b[0;36m1.942597375000E+02\u001b[0m\u001b[0;34m,\u001b[0m\u001b[0;36m2.203130000000E+01\u001b[0m\u001b[0;34m\u001b[0m\u001b[0;34m\u001b[0m\u001b[0m\n\u001b[0;32m----> 5\u001b[0;31m \u001b[0mSOURCE\u001b[0m \u001b[0;34m=\u001b[0m \u001b[0mselect_source\u001b[0m\u001b[0;34m(\u001b[0m\u001b[0mRA\u001b[0m\u001b[0;34m,\u001b[0m\u001b[0mDEC\u001b[0m\u001b[0;34m,\u001b[0m\u001b[0;34m'cookbook.cat'\u001b[0m\u001b[0;34m)\u001b[0m\u001b[0;34m\u001b[0m\u001b[0;34m\u001b[0m\u001b[0m\n\u001b[0m\u001b[1;32m      6\u001b[0m \u001b[0mSOURCE\u001b[0m\u001b[0;34m\u001b[0m\u001b[0;34m\u001b[0m\u001b[0m\n",
      "\u001b[0;32m~/anaconda3/envs/pyaxe/lib/python3.7/site-packages/pyaxehelper/pyaxehelper.py\u001b[0m in \u001b[0;36mselect_source\u001b[0;34m(v1, v2, catalog, method)\u001b[0m\n\u001b[1;32m     56\u001b[0m \u001b[0;34m\u001b[0m\u001b[0m\n\u001b[1;32m     57\u001b[0m \u001b[0;32mdef\u001b[0m \u001b[0mselect_source\u001b[0m\u001b[0;34m(\u001b[0m\u001b[0mv1\u001b[0m\u001b[0;34m,\u001b[0m\u001b[0mv2\u001b[0m\u001b[0;34m,\u001b[0m\u001b[0mcatalog\u001b[0m\u001b[0;34m,\u001b[0m\u001b[0mmethod\u001b[0m\u001b[0;34m=\u001b[0m\u001b[0;34m'RADEC'\u001b[0m\u001b[0;34m)\u001b[0m\u001b[0;34m:\u001b[0m\u001b[0;34m\u001b[0m\u001b[0;34m\u001b[0m\u001b[0m\n\u001b[0;32m---> 58\u001b[0;31m     \u001b[0mCATALOG\u001b[0m \u001b[0;34m=\u001b[0m \u001b[0mread_catalog\u001b[0m\u001b[0;34m(\u001b[0m\u001b[0mcatalog\u001b[0m\u001b[0;34m)\u001b[0m\u001b[0;34m\u001b[0m\u001b[0;34m\u001b[0m\u001b[0m\n\u001b[0m\u001b[1;32m     59\u001b[0m     \u001b[0mx0\u001b[0m \u001b[0;34m=\u001b[0m \u001b[0mCATALOG\u001b[0m\u001b[0;34m.\u001b[0m\u001b[0miloc\u001b[0m\u001b[0;34m[\u001b[0m\u001b[0;34m:\u001b[0m\u001b[0;34m,\u001b[0m\u001b[0;36m3\u001b[0m\u001b[0;34m]\u001b[0m\u001b[0;34m.\u001b[0m\u001b[0mvalues\u001b[0m\u001b[0;34m\u001b[0m\u001b[0;34m\u001b[0m\u001b[0m\n\u001b[1;32m     60\u001b[0m     \u001b[0my0\u001b[0m \u001b[0;34m=\u001b[0m \u001b[0mCATALOG\u001b[0m\u001b[0;34m.\u001b[0m\u001b[0miloc\u001b[0m\u001b[0;34m[\u001b[0m\u001b[0;34m:\u001b[0m\u001b[0;34m,\u001b[0m\u001b[0;36m4\u001b[0m\u001b[0;34m]\u001b[0m\u001b[0;34m.\u001b[0m\u001b[0mvalues\u001b[0m\u001b[0;34m\u001b[0m\u001b[0;34m\u001b[0m\u001b[0m\n",
      "\u001b[0;32m~/anaconda3/envs/pyaxe/lib/python3.7/site-packages/pyaxehelper/pyaxehelper.py\u001b[0m in \u001b[0;36mread_catalog\u001b[0;34m(catalog)\u001b[0m\n\u001b[1;32m     41\u001b[0m \u001b[0;34m\u001b[0m\u001b[0m\n\u001b[1;32m     42\u001b[0m \u001b[0;32mdef\u001b[0m \u001b[0mread_catalog\u001b[0m\u001b[0;34m(\u001b[0m\u001b[0mcatalog\u001b[0m\u001b[0;34m)\u001b[0m\u001b[0;34m:\u001b[0m\u001b[0;34m\u001b[0m\u001b[0;34m\u001b[0m\u001b[0m\n\u001b[0;32m---> 43\u001b[0;31m     \u001b[0mx\u001b[0m \u001b[0;34m=\u001b[0m \u001b[0mopen\u001b[0m\u001b[0;34m(\u001b[0m\u001b[0mcatalog\u001b[0m\u001b[0;34m,\u001b[0m\u001b[0;34m'r'\u001b[0m\u001b[0;34m)\u001b[0m\u001b[0;34m\u001b[0m\u001b[0;34m\u001b[0m\u001b[0m\n\u001b[0m\u001b[1;32m     44\u001b[0m     \u001b[0mcolname\u001b[0m \u001b[0;34m=\u001b[0m \u001b[0;34m[\u001b[0m\u001b[0;34m]\u001b[0m\u001b[0;34m\u001b[0m\u001b[0;34m\u001b[0m\u001b[0m\n\u001b[1;32m     45\u001b[0m     \u001b[0mvalues\u001b[0m \u001b[0;34m=\u001b[0m \u001b[0;34m[\u001b[0m\u001b[0;34m]\u001b[0m\u001b[0;34m\u001b[0m\u001b[0;34m\u001b[0m\u001b[0m\n",
      "\u001b[0;31mFileNotFoundError\u001b[0m: [Errno 2] No such file or directory: 'cookbook.cat'"
     ]
    }
   ],
   "source": [
    "### pyaXeHelper has select_source() to match RA,DEC of a known object to the source catalog\n",
    "\n",
    "os.chdir(cwd)\n",
    "RA,DEC = 1.942597375000E+02,2.203130000000E+01\n",
    "SOURCE = select_source(RA,DEC,'cookbook.cat')\n",
    "SOURCE"
   ]
  },
  {
   "cell_type": "code",
   "execution_count": null,
   "metadata": {},
   "outputs": [],
   "source": [
    "from photutils import SegmentationImage\n",
    "\n",
    "os.chdir(cwd)\n",
    "\n",
    "fig,ax = plt.subplots(1,2,figsize=(20,10))\n",
    "x = fits.open('DIRECT/DIRECT_drz.fits')\n",
    "xdata = x[1].data\n",
    "m = np.where(np.isfinite(xdata))\n",
    "x2 = ax[0].imshow(xdata,origin='lower',cmap='viridis')\n",
    "x2.set_clim(0.,0.2)\n",
    "x = fits.open('SEX/seg.fits')\n",
    "segm = SegmentationImage(x[0].data)\n",
    "cmap = segm.make_cmap(random_state=12345)\n",
    "ax[1].imshow(segm,origin='lower',cmap=cmap)\n",
    "\n",
    "x0,y0 = SOURCE[0],SOURCE[1]\n",
    "ax[0].scatter(x0,y0,s=30,color='red')\n",
    "\n",
    "os.chdir(cwd)\n"
   ]
  },
  {
   "cell_type": "markdown",
   "metadata": {},
   "source": [
    "# Run iolprep\n",
    "\n",
    "### NOTE: *_1.cat will be created in F140W/, then will be copied to DATA/\n",
    "\n",
    "iolprep takes direct_drz.fits file and its source catalog (with dimension_in). Then, it creates *_1.cat for each direct_flt.fits files.\n",
    "\n",
    "Then, copy *_1.cat to DATA/"
   ]
  },
  {
   "cell_type": "code",
   "execution_count": null,
   "metadata": {},
   "outputs": [],
   "source": [
    "dimension_info = \"183,85,50,50\""
   ]
  },
  {
   "cell_type": "code",
   "execution_count": null,
   "metadata": {},
   "outputs": [],
   "source": [
    "os.chdir(cwd)\n",
    "os.chdir(\"DIRECT\")\n",
    "axetasks.iolprep(drizzle_image='DIRECT_drz.fits',\n",
    "                     input_cat='../cookbook.cat',\n",
    "                     dimension_in=dimension_info)\n",
    "\n",
    "# This will create ib6o23*_1.cat\n",
    "!ls *.cat\n",
    "os.chdir(cwd)"
   ]
  },
  {
   "cell_type": "code",
   "execution_count": null,
   "metadata": {},
   "outputs": [],
   "source": [
    "# Also copy .cat to DATA/\n",
    "os.chdir(cwd)\n",
    "os.chdir('DIRECT')\n",
    "os.system(\"cp *_1.cat ../DATA/\")\n",
    "os.chdir(cwd)"
   ]
  },
  {
   "cell_type": "markdown",
   "metadata": {},
   "source": [
    "# Prepare aXe.lis for grism-direct pairs\n",
    "\n",
    "### NOTE: aXe.lis must be in ROOT\n",
    "\n",
    "The aXe.lis file is a simple text file, with a slightly different format than the one above. In this file, each line contains 3 items:\n",
    "- The name of a G141 FLT file (e.g. [grism_rootname]_flt.fits\n",
    "- A catalog name with a name of [direct_rootname]_flt_1.cat\n",
    "- The name of the direct imaging file [direct_rootname]_flt.fits associated with the G141 data and the catalog. "
   ]
  },
  {
   "cell_type": "code",
   "execution_count": null,
   "metadata": {},
   "outputs": [],
   "source": [
    "# Create aXe.lis\n",
    "\n",
    "os.chdir(cwd)\n",
    "make_axelis(GID)\n"
   ]
  },
  {
   "cell_type": "code",
   "execution_count": null,
   "metadata": {},
   "outputs": [],
   "source": [
    "!cat aXe.lis"
   ]
  },
  {
   "cell_type": "markdown",
   "metadata": {},
   "source": [
    "# Run axeprep\n",
    "\n",
    "We run aXeprep. This task will amongst other things take care of background subtracting the G141 data using a single master sky."
   ]
  },
  {
   "cell_type": "code",
   "execution_count": null,
   "metadata": {},
   "outputs": [],
   "source": [
    "### Copy all flt files to DATA/\n",
    "os.chdir(cwd)\n",
    "os.system(\"cp GRISM/*flt.fits DATA/\")\n",
    "os.system(\"cp DIRECT/*flt.fits DATA/\")\n"
   ]
  },
  {
   "cell_type": "code",
   "execution_count": null,
   "metadata": {},
   "outputs": [],
   "source": [
    "WAVELENGTH = 1536.9"
   ]
  },
  {
   "cell_type": "code",
   "execution_count": null,
   "metadata": {},
   "outputs": [],
   "source": [
    "os.chdir(cwd)\n",
    "change_magiso2magwavelength('cookbook.cat',wavelength=WAVELENGTH)\n",
    "change_catalog_order('cookbook.cat')\n"
   ]
  },
  {
   "cell_type": "code",
   "execution_count": null,
   "metadata": {},
   "outputs": [],
   "source": [
    "os.chdir(cwd)\n",
    "os.chdir('DATA/')\n",
    "x = glob.glob('*_1.cat')\n",
    "for i in x:\n",
    "    change_magiso2magwavelength(i,wavelength=WAVELENGTH)\n",
    "    change_catalog_order(i)\n",
    "os.chdir(cwd)\n"
   ]
  },
  {
   "cell_type": "code",
   "execution_count": null,
   "metadata": {},
   "outputs": [],
   "source": [
    "os.chdir(cwd)\n",
    "axetasks.axeprep(inlist=\"aXe.lis\",\n",
    "                     configs=\"G141.F160W.V4.32.conf\",\n",
    "                     backgr=True,\n",
    "                     backims=\"WFC3.IR.G141.sky.V1.0.fits\",\n",
    "                     norm=False,\n",
    "                     mfwhm=3.0)\n"
   ]
  },
  {
   "cell_type": "code",
   "execution_count": null,
   "metadata": {},
   "outputs": [],
   "source": [
    "%debug"
   ]
  },
  {
   "cell_type": "code",
   "execution_count": null,
   "metadata": {},
   "outputs": [],
   "source": []
  },
  {
   "cell_type": "markdown",
   "metadata": {},
   "source": [
    "# Run axecore\n",
    "\n",
    "We can now proceed with a simple box extraction of our G141 spectra. This will not combine individual 1D spectra and we create one extracted spectrum per object and get G141 FLT file we are processing. \n",
    "The contamination is estimated using the Gaussian model of each object that is included in the  SExtractor object catalog test.cat.\n",
    "\n",
    "For each of the G141 input FLT file, this will create the following in the OUTPUT/ directory:\n",
    "- [rootname]_flt_2.cat : Object catalog for the FLT file [rootname]_flt.fits\n",
    "- [rootname]_flt_2.OAF : Aperture file\n",
    "- [rootname]_flt_2.PET.fits : The Pixel Extraction Table, containing all the unbinned information about each spectrum\n",
    "- [rootname]_flt_2.SPC.fits : 1D extracted spectra\n",
    "- [rootname]_flt_2.CONT.fits : Contamination estimate for eact of the spectra\n",
    "- [rootname]_flt_2_opt.SPC.fits : Optimally extracted version of the 1D spectra\n",
    "\n",
    "While running the next notebook cell, please check the main terminal window as the aXe routines will output things in there. It will take a few minutes to run\n",
    "\n",
    "Results are in the directory pointed to by os.environ['AXE_OUTPUT_PATH'], i.e. ./OUTPUT \n",
    "1D and 2D spectra extracted from individual FLT files are available. These are not combined.\n",
    "SPC files contained 1D spectra, opt.SPC files contained optimally extracted spectra (using gaussian profiles), STP files contain 2D stamps. CONT files contain the contamination estimate (gaussian based)"
   ]
  },
  {
   "cell_type": "code",
   "execution_count": null,
   "metadata": {
    "scrolled": true
   },
   "outputs": [],
   "source": [
    "axetasks.axecore('aXe.lis',\n",
    "                 \"G141.F160W.V4.32.conf\",\n",
    "                 extrfwhm=4.,\n",
    "                 drzfwhm=3.,\n",
    "                 backfwhm=0.,\n",
    "                 orient=False,\n",
    "                 weights=True,\n",
    "                 slitless_geom=False,\n",
    "                 cont_model='gauss',\n",
    "                 sampling='drizzle',\n",
    "                 exclude=True)"
   ]
  },
  {
   "cell_type": "code",
   "execution_count": null,
   "metadata": {},
   "outputs": [],
   "source": [
    "!ls OUTPUT/*SPC.fits\n",
    "!ls OUTPUT/*STP.fits"
   ]
  },
  {
   "cell_type": "markdown",
   "metadata": {},
   "source": [
    "# OUTPUT"
   ]
  },
  {
   "cell_type": "code",
   "execution_count": null,
   "metadata": {},
   "outputs": [],
   "source": [
    "# We can examine individual 2D spectra from the STP files. Note that the STP files are meant for quality control and are not calibrated versions of the 2D spectra. \n",
    "\n",
    "os.chdir(cwd)\n",
    "\n",
    "ID = int(SOURCE[2])\n",
    "\n",
    "N = len(GID)\n",
    "\n",
    "plt.rcParams[\"figure.figsize\"] = (10,10)\n",
    "\n",
    "for i,ii in enumerate(GID):\n",
    "    plt.subplot(N,1,i+1)\n",
    "    string = 'OUTPUT/' + GID[ii]['FILE_ORIG'].split('/')[-1].split('.')[0] + '_2.STP.fits'\n",
    "    try:\n",
    "        d1 = fits.open(string)[\"BEAM_%dA\" % (ID)].data\n",
    "        im1 = plt.imshow(d1,origin=\"corner\")\n",
    "        im1.set_clim(0,.1)\n",
    "    except:\n",
    "        print('pass file: {0}'.format(string))\n",
    "        pass\n",
    "    "
   ]
  },
  {
   "cell_type": "code",
   "execution_count": null,
   "metadata": {},
   "outputs": [],
   "source": [
    "# We now examine the calibrated 1D spectra of one of the sources:\n",
    "os.chdir(cwd)\n",
    "\n",
    "import glob\n",
    "for s in glob.glob(\"OUTPUT/*2.SPC.fits\"):\n",
    "    print(s)\n",
    "    d1 = fits.open(s)[\"BEAM_%dA\" % (ID)].data\n",
    "    w = d1[\"LAMBDA\"]\n",
    "    f = d1[\"FLUX\"]\n",
    "    e = d1[\"FERROR\"]\n",
    "    vg = (w>11500) & (w<16000)\n",
    "    plt.errorbar(w[vg],f[vg],e[vg])\n",
    "plt.xlabel(r'Wavelength ($\\AA$)')\n",
    "plt.ylabel(r'Flux ($erg/s/cm^2/\\AA/s$)');"
   ]
  },
  {
   "cell_type": "code",
   "execution_count": null,
   "metadata": {},
   "outputs": [],
   "source": [
    "# Contamination is not automatically removed but has been estimated and we can plot it\n",
    "\n",
    "os.chdir(cwd)\n",
    "import glob\n",
    "for s in glob.glob(\"OUTPUT/*2.SPC.fits\"):\n",
    "    print(s)\n",
    "    d1 = fits.open(s)[\"BEAM_%dA\" % (ID)].data\n",
    "    w = d1[\"LAMBDA\"]\n",
    "    c = d1[\"CONTAM\"]\n",
    "    vg = (w>11500) & (w<16000)\n",
    "    plt.plot(w[vg],c[vg],label=s)\n",
    "plt.legend()\n",
    "plt.xlabel(r'Wavelength ($\\AA$)')\n",
    "plt.ylabel(r'Flux ($erg/s/cm^2/\\AA/s$)');"
   ]
  },
  {
   "cell_type": "code",
   "execution_count": null,
   "metadata": {},
   "outputs": [],
   "source": []
  }
 ],
 "metadata": {
  "kernelspec": {
   "display_name": "Python 3",
   "language": "python",
   "name": "python3"
  },
  "language_info": {
   "codemirror_mode": {
    "name": "ipython",
    "version": 3
   },
   "file_extension": ".py",
   "mimetype": "text/x-python",
   "name": "python",
   "nbconvert_exporter": "python",
   "pygments_lexer": "ipython3",
   "version": "3.7.5"
  }
 },
 "nbformat": 4,
 "nbformat_minor": 2
}
